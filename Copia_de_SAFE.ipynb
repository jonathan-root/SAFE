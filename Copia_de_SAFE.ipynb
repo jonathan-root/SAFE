{
  "nbformat": 4,
  "nbformat_minor": 0,
  "metadata": {
    "colab": {
      "provenance": [],
      "private_outputs": true,
      "include_colab_link": true
    },
    "kernelspec": {
      "name": "python3",
      "display_name": "Python 3"
    },
    "language_info": {
      "name": "python"
    },
    "gpuClass": "standard"
  },
  "cells": [
    {
      "cell_type": "markdown",
      "metadata": {
        "id": "view-in-github",
        "colab_type": "text"
      },
      "source": [
        "<a href=\"https://colab.research.google.com/github/jonathan-root/SAFE/blob/main/Copia_de_SAFE.ipynb\" target=\"_parent\"><img src=\"https://colab.research.google.com/assets/colab-badge.svg\" alt=\"Open In Colab\"/></a>"
      ]
    },
    {
      "cell_type": "markdown",
      "source": [
        "## Librerias"
      ],
      "metadata": {
        "id": "0CT8Pmnk7swO"
      }
    },
    {
      "cell_type": "code",
      "execution_count": null,
      "metadata": {
        "id": "ORgG0V4TjKyc"
      },
      "outputs": [],
      "source": [
        "# Importar las librerías necesarias\n",
        "import pandas as pd\n",
        "import numpy as np\n",
        "from sklearn.linear_model import LogisticRegression, LinearRegression\n",
        "from sklearn.ensemble import RandomForestClassifier\n",
        "from sklearn.model_selection import train_test_split, cross_val_score\n",
        "from sklearn.metrics import accuracy_score, r2_score, confusion_matrix, mean_squared_error\n",
        "import seaborn as sns\n",
        "import matplotlib.pyplot as plt\n",
        "from sklearn.pipeline import Pipeline\n",
        "from sklearn.exceptions import ConvergenceWarning\n",
        "import warnings\n",
        "warnings.filterwarnings(\"ignore\", category=ConvergenceWarning)"
      ]
    },
    {
      "cell_type": "markdown",
      "source": [
        "# LECTURA Y VISUALIZACIÓN DE LOS DATOS"
      ],
      "metadata": {
        "id": "GYNAd6vh3lXZ"
      }
    },
    {
      "cell_type": "code",
      "source": [
        "# Identifica los valores nulos\n",
        "def count_nulls(df):\n",
        "    null_counts = df.isnull().sum()\n",
        "    return null_counts\n",
        "\n",
        "# Identifica los valores nulos codificados como cadenas en un dataframe.\n",
        "def identify_string_nulls(df):\n",
        "    # Define una lista de cadenas que se considerarán como valores nulos\n",
        "    null_set = {'NULL', 'NAN', 'NA', 'NAT', 'NaN', 'nAn', 'NaT', 'nAt'}\n",
        "    \n",
        "    # Itera sobre cada fila del dataframe y busca los valores nulos codificados como cadenas\n",
        "    for i, row in df.iterrows():\n",
        "        for col in df.columns:\n",
        "            if pd.isna(row[col]):\n",
        "                continue\n",
        "            elif type(row[col]) == str and row[col].strip().upper() in null_set:\n",
        "                row[col] = np.nan\n",
        "        df.iloc[i, :] = row\n",
        "    \n",
        "    return df"
      ],
      "metadata": {
        "id": "gDPvvzPW1aoW"
      },
      "execution_count": null,
      "outputs": []
    },
    {
      "cell_type": "code",
      "source": [
        "# Cargar los datos\n",
        "h1 = pd.read_csv(\"H1.csv\")\n",
        "h2 = pd.read_csv(\"H2.csv\")"
      ],
      "metadata": {
        "id": "Wo3XB4xPjpEy"
      },
      "execution_count": null,
      "outputs": []
    },
    {
      "cell_type": "code",
      "source": [
        "h1.head()"
      ],
      "metadata": {
        "id": "V3wFYyE4kJtU"
      },
      "execution_count": null,
      "outputs": []
    },
    {
      "cell_type": "code",
      "source": [
        "h1.info()"
      ],
      "metadata": {
        "id": "xGz5zU9HI9Y8"
      },
      "execution_count": null,
      "outputs": []
    },
    {
      "cell_type": "code",
      "source": [
        "# Checamos si tienen datos nulos o vacios\n",
        "count_nulls(h1)"
      ],
      "metadata": {
        "id": "-5VRT2aW1e1w"
      },
      "execution_count": null,
      "outputs": []
    },
    {
      "cell_type": "code",
      "source": [
        "# Checamos si tienen datos nulos o vacios pero tambien con los que son de tipo string\n",
        "count_nulls(identify_string_nulls(h1))"
      ],
      "metadata": {
        "id": "jW_SePjm_285"
      },
      "execution_count": null,
      "outputs": []
    },
    {
      "cell_type": "code",
      "source": [
        "h2.head()"
      ],
      "metadata": {
        "id": "-NzvZnUikMp2"
      },
      "execution_count": null,
      "outputs": []
    },
    {
      "cell_type": "code",
      "source": [
        "h2.info()"
      ],
      "metadata": {
        "id": "dj9sW_NwApyh"
      },
      "execution_count": null,
      "outputs": []
    },
    {
      "cell_type": "code",
      "source": [
        "# Checamos si tienen datos nulos o vacios\n",
        "count_nulls(h2)"
      ],
      "metadata": {
        "id": "9EdrWt44-OYW"
      },
      "execution_count": null,
      "outputs": []
    },
    {
      "cell_type": "code",
      "source": [
        "# Checamos si tienen datos nulos o vacios pero tambien con los que son de tipo string\n",
        "count_nulls(identify_string_nulls(h2))"
      ],
      "metadata": {
        "id": "Agy9SH7OBBMB"
      },
      "execution_count": null,
      "outputs": []
    },
    {
      "cell_type": "code",
      "source": [
        "# Reemplazar valores vacíos o nulos a \"0\"\n",
        "h1.fillna(0, inplace=True)\n",
        "h2.fillna(0, inplace=True)"
      ],
      "metadata": {
        "id": "JEv-EUuzlIwZ"
      },
      "execution_count": null,
      "outputs": []
    },
    {
      "cell_type": "code",
      "source": [
        "# Crear una lista con los DataFrames y sus respectivos nombres\n",
        "dataframes = [(h1, 'Hotel 1'), (h2, 'Hotel 2')]\n",
        "\n",
        "# Verificar si hay datos nulos o vacíos en cada DataFrame\n",
        "for df, name in dataframes:\n",
        "    if df.isnull().values.any():\n",
        "        print(f\"Hay datos nulos o vacíos en el archivo {name}.\")\n",
        "    else:\n",
        "        print(f\"No hay datos nulos o vacíos en el archivo {name}.\")"
      ],
      "metadata": {
        "id": "yMk8IPd1_jOl"
      },
      "execution_count": null,
      "outputs": []
    },
    {
      "cell_type": "code",
      "source": [
        "# Conversión de variables categóricas en numéricas\n",
        "h1 = pd.get_dummies(h1)\n",
        "h2 = pd.get_dummies(h2)"
      ],
      "metadata": {
        "id": "AOcq3V2S74b9"
      },
      "execution_count": null,
      "outputs": []
    },
    {
      "cell_type": "markdown",
      "source": [
        "# Evaluación con el modelo de logística vainilla"
      ],
      "metadata": {
        "id": "cE-isyyNpnTz"
      }
    },
    {
      "cell_type": "markdown",
      "source": [
        "Evaluación de la regresión logística vainilla.\n",
        "\n",
        "Dividir los datos en conjuntos de entrenamiento y prueba"
      ],
      "metadata": {
        "id": "Prh553Y1MTsb"
      }
    },
    {
      "cell_type": "code",
      "source": [
        "X_train1, X_test1, y_train1, y_test1 = train_test_split(h1.drop('IsCanceled', axis=1), h1['IsCanceled'], test_size=0.2, random_state=42)\n",
        "X_train2, X_test2, y_train2, y_test2 = train_test_split(h2.drop('IsCanceled', axis=1), h2['IsCanceled'], test_size=0.2, random_state=42)"
      ],
      "metadata": {
        "id": "X8wQLqI6kGl1"
      },
      "execution_count": null,
      "outputs": []
    },
    {
      "cell_type": "markdown",
      "source": [
        "Crear un modelo de regresión logística vainilla y ajustarlo a los datos de entrenamiento"
      ],
      "metadata": {
        "id": "kx8pZLvmMP-F"
      }
    },
    {
      "cell_type": "code",
      "source": [
        "logreg_H1 = LogisticRegression(solver='lbfgs')\n",
        "logreg_H1 = logreg_H1.fit(X_train1, y_train1)"
      ],
      "metadata": {
        "id": "PR9mBrAdkRtf"
      },
      "execution_count": null,
      "outputs": []
    },
    {
      "cell_type": "code",
      "source": [
        "logreg_H2 = LogisticRegression(solver='lbfgs')\n",
        "logreg_H2 = logreg_H2.fit(X_train2, y_train2)"
      ],
      "metadata": {
        "id": "mXBLqbvlx9ic"
      },
      "execution_count": null,
      "outputs": []
    },
    {
      "cell_type": "code",
      "source": [
        "# Evaluar el modelo en los datos de prueba\n",
        "logreg_y_pred1 = logreg_H1.predict(X_test1)\n",
        "logreg_y_pred2 = logreg_H2.predict(X_test2)"
      ],
      "metadata": {
        "id": "u5ECsI_klVbH"
      },
      "execution_count": null,
      "outputs": []
    },
    {
      "cell_type": "code",
      "source": [
        "# Calcular el coeficiente de determinación del modelo\n",
        "print(\"Coeficiente de determinación del modelo regresión lineal en H1: %0.20f\" % r2_score(y_test1, logreg_y_pred1))\n",
        "print(\"Coeficiente de determinación del modelo regresión lineal en H2: %0.20f\" % r2_score(y_test2, logreg_y_pred2))"
      ],
      "metadata": {
        "id": "d30uSeBChQRs"
      },
      "execution_count": null,
      "outputs": []
    },
    {
      "cell_type": "code",
      "source": [
        "# graficar la línea de regresión y los puntos de datos\n",
        "plt.scatter(y_test1, logreg_y_pred1)\n",
        "plt.plot([y_test1.min(), y_test1.max()], [y_test1.min(), y_test1.max()], 'k--', lw=2)\n",
        "plt.xlabel('Valor real')\n",
        "plt.ylabel('Predicción')\n",
        "plt.title('Precisión del modelo lineal (R1 = %0.20f)' % r2_score(y_test1, logreg_y_pred1))\n",
        "plt.show()"
      ],
      "metadata": {
        "id": "0hsPwCjW0lbL"
      },
      "execution_count": null,
      "outputs": []
    },
    {
      "cell_type": "code",
      "source": [
        "# graficar la línea de regresión y los puntos de datos\n",
        "plt.scatter(y_test2, logreg_y_pred2)\n",
        "plt.plot([y_test2.min(), y_test2.max()], [y_test2.min(), y_test2.max()], 'k--', lw=2)\n",
        "plt.xlabel('Valor real')\n",
        "plt.ylabel('Predicción')\n",
        "plt.title('Precisión del modelo lineal (R2 = %0.20f)' % r2_score(y_test2, logreg_y_pred2))\n",
        "plt.show()"
      ],
      "metadata": {
        "id": "Ejs0CgAT3GaE"
      },
      "execution_count": null,
      "outputs": []
    },
    {
      "cell_type": "code",
      "source": [
        "# Calculando el MSE\n",
        "print(\"MSE (Error cuadrático medio) del modelo regresión lineal en H1: %0.20f\" % mean_squared_error(y_test1, logreg_y_pred1))\n",
        "print(\"MSE (Error cuadrático medio) del modelo regresión lineal en H2: %0.20f\" % mean_squared_error(y_test2, logreg_y_pred2))"
      ],
      "metadata": {
        "id": "FlMGDQ8_hZKg"
      },
      "execution_count": null,
      "outputs": []
    },
    {
      "cell_type": "code",
      "source": [
        "# calcular el MSE para diferentes tamaños del conjunto de datos de prueba\n",
        "mse_values_logreg = []\n",
        "sizes_logreg = range(1, len(y_test1) + 1)\n",
        "for s in sizes_logreg:\n",
        "    mse_values_logreg.append(mean_squared_error(y_test1[:s], logreg_y_pred1[:s]))\n",
        "\n",
        "# graficar el MSE\n",
        "plt.plot(sizes_logreg, mse_values_logreg)\n",
        "plt.title('MSE del modelo lineal H1')\n",
        "plt.xlabel('Tamaño del conjunto de prueba')\n",
        "plt.ylabel('MSE')\n",
        "plt.show()"
      ],
      "metadata": {
        "id": "meGOJYOiy7FR"
      },
      "execution_count": null,
      "outputs": []
    },
    {
      "cell_type": "code",
      "source": [
        "# calcular el MSE para diferentes tamaños del conjunto de datos de prueba\n",
        "mse_values_logreg = []\n",
        "sizes_logreg = range(1, len(y_test2) + 1)\n",
        "for s in sizes_logreg:\n",
        "    mse_values_logreg.append(mean_squared_error(y_test2[:s], logreg_y_pred2[:s]))\n",
        "\n",
        "# graficar el MSE\n",
        "plt.plot(sizes_logreg, mse_values_logreg)\n",
        "plt.title('MSE del modelo lineal H2')\n",
        "plt.xlabel('Tamaño del conjunto de prueba')\n",
        "plt.ylabel('MSE')\n",
        "plt.show()"
      ],
      "metadata": {
        "id": "1ExN4Zu-298N"
      },
      "execution_count": null,
      "outputs": []
    },
    {
      "cell_type": "code",
      "source": [
        "# Calcular la precisión del modelo\n",
        "print(\"Precisión del modelo Vainilla en H1: %0.20f\" % accuracy_score(y_test1, logreg_y_pred1))\n",
        "print(\"Precisión del modelo Vainilla en H2: %0.20f\" % accuracy_score(y_test2, logreg_y_pred2))"
      ],
      "metadata": {
        "id": "5Dv38s9UphEB"
      },
      "execution_count": null,
      "outputs": []
    },
    {
      "cell_type": "markdown",
      "source": [
        "# EVALUACIÓN CON EL MODELO LINEAL"
      ],
      "metadata": {
        "id": "n0HNhK5Ily4o"
      }
    },
    {
      "cell_type": "code",
      "source": [
        "# Evaluar el modelo lineal\n",
        "# Crear un modelo de regresión lineal y ajustarlo a los datos de entrenamiento\n",
        "linreg_H1 = LinearRegression()\n",
        "linreg_H1 = linreg_H1.fit(X_train1, y_train1)"
      ],
      "metadata": {
        "id": "miWG0Na1li6Q"
      },
      "execution_count": null,
      "outputs": []
    },
    {
      "cell_type": "code",
      "source": [
        "linreg_H2 = LinearRegression()\n",
        "linreg_H2 = linreg_H2.fit(X_train2, y_train2)"
      ],
      "metadata": {
        "id": "pgvZsh77yAqo"
      },
      "execution_count": null,
      "outputs": []
    },
    {
      "cell_type": "code",
      "source": [
        "# Evaluar el modelo en los datos de prueba\n",
        "linreg_y_pred1 = linreg_H1.predict(X_test1)\n",
        "linreg_y_pred2 = linreg_H2.predict(X_test2)"
      ],
      "metadata": {
        "id": "CqG318gKl4UM"
      },
      "execution_count": null,
      "outputs": []
    },
    {
      "cell_type": "code",
      "source": [
        "# Calcular el coeficiente de determinación del modelo\n",
        "print(\"Coeficiente de determinación del modelo regresión lineal en H1: %0.20f\" %r2_score(y_test1, linreg_y_pred1))\n",
        "print(\"Coeficiente de determinación del modelo regresión lineal en H2: %0.20f\" % r2_score(y_test2, linreg_y_pred2))"
      ],
      "metadata": {
        "id": "VzN1LPljl7Ms"
      },
      "execution_count": null,
      "outputs": []
    },
    {
      "cell_type": "code",
      "source": [
        "# graficar la línea de regresión y los puntos de datos\n",
        "plt.scatter(y_test1, linreg_y_pred1)\n",
        "plt.plot([y_test1.min(), y_test1.max()], [y_test1.min(), y_test1.max()], 'k--', lw=2)\n",
        "plt.xlabel('Valor real')\n",
        "plt.ylabel('Predicción')\n",
        "plt.title('Precisión del modelo lineal (R1 = %0.20f)' % r2_score(y_test1, linreg_y_pred1))\n",
        "plt.show()"
      ],
      "metadata": {
        "id": "GL92vm2j3KIE"
      },
      "execution_count": null,
      "outputs": []
    },
    {
      "cell_type": "code",
      "source": [
        "# graficar la línea de regresión y los puntos de datos\n",
        "plt.scatter(y_test2, linreg_y_pred2)\n",
        "plt.plot([y_test2.min(), y_test2.max()], [y_test2.min(), y_test2.max()], 'k--', lw=2)\n",
        "plt.xlabel('Valor real')\n",
        "plt.ylabel('Predicción')\n",
        "plt.title('Precisión del modelo lineal (R2 = %0.20f)' % r2_score(y_test2, linreg_y_pred2))\n",
        "plt.show()"
      ],
      "metadata": {
        "id": "BNnj8maR4fKk"
      },
      "execution_count": null,
      "outputs": []
    },
    {
      "cell_type": "code",
      "source": [
        "# Calculando el MSE\n",
        "print(\"MSE (Error cuadrático medio) del modelo regresión lineal en H1: %0.20f\" % mean_squared_error(y_test1, linreg_y_pred1))\n",
        "print(\"MSE (Error cuadrático medio) del modelo regresión lineal en H2: %0.20f\" % mean_squared_error(y_test2, linreg_y_pred2))"
      ],
      "metadata": {
        "id": "joh2rukRoPqw"
      },
      "execution_count": null,
      "outputs": []
    },
    {
      "cell_type": "code",
      "source": [
        "# calcular el MSE para diferentes tamaños del conjunto de datos de prueba\n",
        "mse_values_linreg = []\n",
        "sizes_linreg = range(1, len(y_test1) + 1)\n",
        "for s in sizes_linreg:\n",
        "    mse_values_linreg.append(mean_squared_error(y_test1[:s], linreg_y_pred1[:s]))\n",
        "\n",
        "# graficar el MSE\n",
        "plt.plot(sizes_linreg, mse_values_linreg)\n",
        "plt.title('MSE del modelo lineal H1')\n",
        "plt.xlabel('Tamaño del conjunto de prueba')\n",
        "plt.ylabel('MSE')\n",
        "plt.show()"
      ],
      "metadata": {
        "id": "zKAfPi8P4RPU"
      },
      "execution_count": null,
      "outputs": []
    },
    {
      "cell_type": "code",
      "source": [
        "# calcular el MSE para diferentes tamaños del conjunto de datos de prueba\n",
        "mse_values_linreg = []\n",
        "sizes_linreg = range(1, len(y_test2) + 1)\n",
        "for s in sizes_linreg:\n",
        "    mse_values_linreg.append(mean_squared_error(y_test2[:s], linreg_y_pred2[:s]))\n",
        "\n",
        "# graficar el MSE\n",
        "plt.plot(sizes_linreg, mse_values_linreg)\n",
        "plt.title('MSE del modelo lineal H2')\n",
        "plt.xlabel('Tamaño del conjunto de prueba')\n",
        "plt.ylabel('MSE')\n",
        "plt.show()"
      ],
      "metadata": {
        "id": "PGyXkle34U_q"
      },
      "execution_count": null,
      "outputs": []
    },
    {
      "cell_type": "markdown",
      "source": [
        "# IMPLEMENTACIÓN DEL MÉTODO SAFE"
      ],
      "metadata": {
        "id": "BMRfG9HRo6D6"
      }
    },
    {
      "cell_type": "markdown",
      "source": [
        "### MODELO DE BOSQUE ALEATORIO SUPERVISOR FLEXIBLE"
      ],
      "metadata": {
        "id": "wH90CImc1_y6"
      }
    },
    {
      "cell_type": "code",
      "source": [
        "pip install safe-transformer"
      ],
      "metadata": {
        "id": "4zsDEXfO8Ui6"
      },
      "execution_count": null,
      "outputs": []
    },
    {
      "cell_type": "code",
      "source": [
        "from SafeTransformer import SafeTransformer\n",
        "# Seleccionar las columnas numéricas para transformar\n",
        "numeric_cols = ['LeadTime','IsRepeatedGuest','PreviousBookingsNotCanceled','BookingChanges','DaysInWaitingList','RequiredCarParkingSpaces','TotalOfSpecialRequests']"
      ],
      "metadata": {
        "id": "YT4O6KhUZeSy"
      },
      "execution_count": null,
      "outputs": []
    },
    {
      "cell_type": "code",
      "source": [
        "# Dividir los datos en conjuntos de entrenamiento y prueba\n",
        "X_train1_SAFE, X_test1_SAFE, y_train1_SAFE, y_test1_SAFE = train_test_split(h1[(numeric_cols)], h1['IsCanceled'], test_size=0.2, random_state=42)\n",
        "X_train2_SAFE, X_test2_SAFE, y_train2_SAFE, y_test2_SAFE = train_test_split(h2[(numeric_cols)], h2['IsCanceled'], test_size=0.2, random_state=42)"
      ],
      "metadata": {
        "id": "0okkDH0IW-kT"
      },
      "execution_count": null,
      "outputs": []
    },
    {
      "cell_type": "code",
      "source": [
        "# Entrenar un modelo complejo (bosque aleatorio supervisor flexible)\n",
        "surrogate_model_H1 = RandomForestClassifier(n_estimators=100,\n",
        "                                          max_depth=4,\n",
        "                                          max_features='sqrt',\n",
        "                                          random_state=42)\n",
        "surrogate_model_H1 = surrogate_model_H1.fit(X_train1_SAFE, y_train1_SAFE)"
      ],
      "metadata": {
        "id": "MqyGa3E-p52s"
      },
      "execution_count": null,
      "outputs": []
    },
    {
      "cell_type": "code",
      "source": [
        "# Entrenar un modelo complejo (bosque aleatorio supervisor flexible)\n",
        "surrogate_model_H2 = RandomForestClassifier(n_estimators=100,\n",
        "                                          max_depth=4,\n",
        "                                          max_features='sqrt',\n",
        "                                          random_state=42)\n",
        "surrogate_model_H2 = surrogate_model_H2.fit(X_train2_SAFE, y_train2_SAFE)"
      ],
      "metadata": {
        "id": "ygnR23R65wfu"
      },
      "execution_count": null,
      "outputs": []
    },
    {
      "cell_type": "markdown",
      "source": [
        "### TRANSFORMACIÓN DE VARIABLES"
      ],
      "metadata": {
        "id": "kS85Y5-72bTX"
      }
    },
    {
      "cell_type": "code",
      "source": [
        "# Utilizar SAFE para encontrar transformaciones de variables\n",
        "safe_transformer_H1 = SafeTransformer(surrogate_model_H1)\n",
        "X_transformed_H1 = safe_transformer_H1.fit_transform(X_train1_SAFE, y_train1_SAFE)"
      ],
      "metadata": {
        "id": "ump4GzdCqDn1"
      },
      "execution_count": null,
      "outputs": []
    },
    {
      "cell_type": "code",
      "source": [
        "safe_transformer_H2 = SafeTransformer(surrogate_model_H2)\n",
        "X_transformed_H2 = safe_transformer_H2.fit_transform(X_train2_SAFE, y_train2_SAFE)"
      ],
      "metadata": {
        "id": "rImGPCm5-P_n"
      },
      "execution_count": null,
      "outputs": []
    },
    {
      "cell_type": "code",
      "source": [
        "# Realizar selección de características en el nuevo conjunto de características\n",
        "linear_model_H1 = LogisticRegression(solver='lbfgs')\n",
        "pipe_H1 = Pipeline(steps=[('linear', linear_model_H1)])\n",
        "pipe_H1 = pipe_H1.fit(X_transformed_H1, y_train1_SAFE)"
      ],
      "metadata": {
        "id": "-xufHS_snVko"
      },
      "execution_count": null,
      "outputs": []
    },
    {
      "cell_type": "code",
      "source": [
        "linear_model_H2 = LogisticRegression(solver='lbfgs')\n",
        "pipe_H2 = Pipeline(steps=[('linear', linear_model_H2)])\n",
        "pipe_H2 = pipe_H2.fit(X_transformed_H2, y_train2_SAFE)"
      ],
      "metadata": {
        "id": "pZCiZ8e5-W-F"
      },
      "execution_count": null,
      "outputs": []
    },
    {
      "cell_type": "code",
      "source": [
        "# Evaluar el modelo de regresión logística basado en las variables transformadas\n",
        "X_test_transformed_H1 = safe_transformer_H1.transform(X_test1_SAFE)\n",
        "predictions_H1 = pipe_H1.predict(X_test_transformed_H1)\n",
        "accuracy_H1 = accuracy_score(y_test1_SAFE, predictions_H1)"
      ],
      "metadata": {
        "id": "Thfmp9ygnjm8"
      },
      "execution_count": null,
      "outputs": []
    },
    {
      "cell_type": "code",
      "source": [
        "X_test_transformed_H2 = safe_transformer_H2.transform(X_test2_SAFE)\n",
        "predictions_H2 = pipe_H2.predict(X_test_transformed_H2)\n",
        "accuracy_H2 = accuracy_score(y_test2_SAFE, predictions_H2)"
      ],
      "metadata": {
        "id": "3VJHU8DHoVmr"
      },
      "execution_count": null,
      "outputs": []
    },
    {
      "cell_type": "code",
      "source": [
        "# Calculando el MSE\n",
        "print(\"MSE (Error cuadrático medio) del modelo de Bosque Aleatorio en H1: %0.20f\" % mean_squared_error(y_test1_SAFE, predictions_H1))\n",
        "print(\"MSE (Error cuadrático medio) del modelo de Bosque Aleatorio en H2: %0.20f\" % mean_squared_error(y_test2_SAFE, predictions_H2))"
      ],
      "metadata": {
        "id": "aTw_SGoHpgI-"
      },
      "execution_count": null,
      "outputs": []
    },
    {
      "cell_type": "code",
      "source": [
        "# Calculando el R2\n",
        "print(\"Coeficiente de determinación del modelo en Bosque Aleatorio H1: %0.20f\" % r2_score(y_test1_SAFE, predictions_H1))\n",
        "print(\"Coeficiente de determinación del modelo en Bosque Aleatorio H2: %0.20f\" % r2_score(y_test2_SAFE, predictions_H2))"
      ],
      "metadata": {
        "id": "IlRv13B5pps3"
      },
      "execution_count": null,
      "outputs": []
    },
    {
      "cell_type": "code",
      "source": [
        "# Calcular la precisión del modelo\n",
        "print(\"Precisión del modelo Logístico en H1: %0.20f\" % accuracy_score(y_test1_SAFE, predictions_H1))\n",
        "print(\"Precisión del modelo Logístico en H2: %0.20f\" % accuracy_score(y_test2_SAFE, predictions_H2))"
      ],
      "metadata": {
        "id": "GdmhexzhSkDR"
      },
      "execution_count": null,
      "outputs": []
    },
    {
      "cell_type": "markdown",
      "source": [
        "# EVALUACIÓN CON EL MODELO DE REGRESIÓN LOGÍSTICA "
      ],
      "metadata": {
        "id": "LfW_sSkX17iF"
      }
    },
    {
      "cell_type": "code",
      "source": [
        "# Entrenar un modelo de regresión logística con las variables transformadas\n",
        "logistic_model_H1 = LogisticRegression(penalty='l2', C=0.1, solver='liblinear')\n",
        "LM_H1 = logistic_model_H1.fit(X_transformed_H1, y_train1_SAFE)"
      ],
      "metadata": {
        "id": "n3s_ScnrL1Oe"
      },
      "execution_count": null,
      "outputs": []
    },
    {
      "cell_type": "code",
      "source": [
        "logistic_model_H2 = LogisticRegression(penalty='l2', C=0.1, solver='liblinear')\n",
        "LM_H2 = logistic_model_H2.fit(X_transformed_H2, y_train2_SAFE)"
      ],
      "metadata": {
        "id": "TKBJ3LYrOj3-"
      },
      "execution_count": null,
      "outputs": []
    },
    {
      "cell_type": "code",
      "source": [
        "# Evaluar el modelo en el conjunto de prueba\n",
        "y_pred_H1 = LM_H1.predict(X_test_transformed_H1)\n",
        "y_pred_H2 = LM_H2.predict(X_test_transformed_H2)"
      ],
      "metadata": {
        "id": "1-bxD7yHrvd0"
      },
      "execution_count": null,
      "outputs": []
    },
    {
      "cell_type": "code",
      "source": [
        "# Calcular el coeficiente de determinación del modelo\n",
        "print(\"Coeficiente de determinación del modelo Logístico en H1: %0.20f\" % r2_score(y_test1_SAFE, y_pred_H1))\n",
        "print(\"Coeficiente de determinación del modelo Logístico en H2: %0.20f\" % r2_score(y_test2_SAFE, y_pred_H2))"
      ],
      "metadata": {
        "id": "EWpRtCUftRLL"
      },
      "execution_count": null,
      "outputs": []
    },
    {
      "cell_type": "code",
      "source": [
        "# graficar la línea de regresión y los puntos de datos\n",
        "plt.scatter(y_test1_SAFE, y_pred_H1)\n",
        "plt.plot([y_test1_SAFE.min(), y_test1_SAFE.max()], [y_test1_SAFE.min(), y_test1_SAFE.max()], 'k--', lw=2)\n",
        "plt.xlabel('Valor real')\n",
        "plt.ylabel('Predicción')\n",
        "plt.title('Precisión del modelo lineal (R1 = %0.20f)' % r2_score(y_test1_SAFE, y_pred_H1))\n",
        "plt.show()"
      ],
      "metadata": {
        "id": "kjjHObv_Hcue"
      },
      "execution_count": null,
      "outputs": []
    },
    {
      "cell_type": "code",
      "source": [
        "# graficar la línea de regresión y los puntos de datos\n",
        "plt.scatter(y_test2_SAFE, y_pred_H2)\n",
        "plt.plot([y_test2_SAFE.min(), y_test2_SAFE.max()], [y_test2_SAFE.min(), y_test2_SAFE.max()], 'k--', lw=2)\n",
        "plt.xlabel('Valor real')\n",
        "plt.ylabel('Predicción')\n",
        "plt.title('Precisión del modelo lineal (R2 = %0.20f)' % r2_score(y_test2_SAFE, y_pred_H2))\n",
        "plt.show()"
      ],
      "metadata": {
        "id": "sQVkUySpHq87"
      },
      "execution_count": null,
      "outputs": []
    },
    {
      "cell_type": "code",
      "source": [
        "# Calculando el MSE\n",
        "print(\"MSE (Error cuadrático medio) del modelo Logístico en H1: %0.20f\" % mean_squared_error(y_test1_SAFE, y_pred_H1))\n",
        "print(\"MSE (Error cuadrático medio) del modelo Logístico en H2: %0.20f\" % mean_squared_error(y_test2_SAFE, y_pred_H2))"
      ],
      "metadata": {
        "id": "F2SyvjHO7S0N"
      },
      "execution_count": null,
      "outputs": []
    },
    {
      "cell_type": "code",
      "source": [
        "# calcular el MSE para diferentes tamaños del conjunto de datos de prueba\n",
        "mse_values_logistic_model = []\n",
        "sizes_logistic_model = range(1, len(y_test1_SAFE) + 1)\n",
        "for s in sizes_logistic_model:\n",
        "    mse_values_logistic_model.append(mean_squared_error(y_test1_SAFE[:s], y_pred_H1[:s]))\n",
        "\n",
        "# graficar el MSE\n",
        "plt.plot(sizes_logistic_model, mse_values_logistic_model)\n",
        "plt.title('MSE del modelo lineal H1')\n",
        "plt.xlabel('Tamaño del conjunto de prueba')\n",
        "plt.ylabel('MSE')\n",
        "plt.show()"
      ],
      "metadata": {
        "id": "Qf-KCsQ0L5PO"
      },
      "execution_count": null,
      "outputs": []
    },
    {
      "cell_type": "code",
      "source": [
        "# calcular el MSE para diferentes tamaños del conjunto de datos de prueba\n",
        "mse_values_logistic_model = []\n",
        "sizes_logistic_model = range(1, len(y_test2_SAFE) + 1)\n",
        "for s in sizes_logistic_model:\n",
        "    mse_values_logistic_model.append(mean_squared_error(y_test2_SAFE[:s], y_pred_H2[:s]))\n",
        "\n",
        "# graficar el MSE\n",
        "plt.plot(sizes_logistic_model, mse_values_logistic_model)\n",
        "plt.title('MSE del modelo lineal H2')\n",
        "plt.xlabel('Tamaño del conjunto de prueba')\n",
        "plt.ylabel('MSE')\n",
        "plt.show()"
      ],
      "metadata": {
        "id": "k9-n23tGMK2K"
      },
      "execution_count": null,
      "outputs": []
    },
    {
      "cell_type": "code",
      "source": [
        "# Calcular la precisión del modelo\n",
        "print(\"Precisión del modelo Logístico en H1: %0.20f\" % accuracy_score(y_test1_SAFE, y_pred_H1))\n",
        "print(\"Precisión del modelo Logístico en H2: %0.20f\" % accuracy_score(y_test2_SAFE, y_pred_H2))"
      ],
      "metadata": {
        "id": "gE0gq2k8trLK"
      },
      "execution_count": null,
      "outputs": []
    }
  ]
}